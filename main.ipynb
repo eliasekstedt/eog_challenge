{
 "cells": [
  {
   "cell_type": "code",
   "execution_count": 1,
   "metadata": {},
   "outputs": [],
   "source": [
    "# external imports\n",
    "import os\n",
    "from torch.utils.data import DataLoader\n",
    "\n",
    "import os\n",
    "os.environ['CUDA_LAUNCH_BLOCKING'] = \"1\""
   ]
  },
  {
   "cell_type": "code",
   "execution_count": 2,
   "metadata": {},
   "outputs": [],
   "source": [
    "# local imports\n",
    "\n"
   ]
  },
  {
   "cell_type": "code",
   "execution_count": 3,
   "metadata": {},
   "outputs": [],
   "source": [
    "# folderstructure setup\n",
    "path = {'trainmap':'csv/trainsplit.csv',\n",
    "        'testmap':'csv/testsplit.csv',\n",
    "        'data_labeled':'data/train/',\n",
    "        'data_unlabeled':'data/test/'\n",
    "        }\n",
    "\n",
    "device = 'cuda'\n",
    "\n",
    "# hyperparameters\n",
    "hparam = {'batch_size': 200,\n",
    "          'nr_epochs': 10,\n",
    "          'architecture_name':'res18_unintegrated',\n",
    "          'weight_decay': 0.0,\n",
    "          'dropout_rate': 0.0}"
   ]
  },
  {
   "cell_type": "code",
   "execution_count": 4,
   "metadata": {},
   "outputs": [],
   "source": [
    "# loading data\n",
    "from util.Readers import BasicReader as Reader\n",
    "trainset = Reader(path['trainmap'], path['data_labeled'])\n",
    "testset = Reader(path['testmap'], path['data_labeled'])\n",
    "trainloader = DataLoader(trainset, batch_size=hparam['batch_size'], shuffle=True)\n",
    "testloader = DataLoader(testset, batch_size=hparam['batch_size'], shuffle=True)"
   ]
  },
  {
   "cell_type": "code",
   "execution_count": 5,
   "metadata": {},
   "outputs": [
    {
     "name": "stdout",
     "output_type": "stream",
     "text": [
      "################# initiating run #################\n",
      "run dir has been created in run/26_17_49_29/\n",
      "\n",
      "batch_size\t: 200\n",
      "nr_epochs\t: 10\n",
      "architecture_name\t: res18unintegrated\n",
      "weight_decay\t: 0.0\n",
      "dropout_rate\t: 0.0\n",
      "\n",
      "Using cuda device\n",
      "################# initiated run ##################\n",
      "using Res18unintegrated architecture\n"
     ]
    },
    {
     "name": "stderr",
     "output_type": "stream",
     "text": [
      "d:\\program\\code_language\\python_3.10\\lib\\site-packages\\torchvision\\models\\_utils.py:208: UserWarning: The parameter 'pretrained' is deprecated since 0.13 and may be removed in the future, please use 'weights' instead.\n",
      "  warnings.warn(\n",
      "d:\\program\\code_language\\python_3.10\\lib\\site-packages\\torchvision\\models\\_utils.py:223: UserWarning: Arguments other than a weight enum or `None` for 'weights' are deprecated since 0.13 and may be removed in the future. The current behavior is equivalent to passing `weights=ResNet18_Weights.IMAGENET1K_V1`. You can also use `weights=ResNet18_Weights.DEFAULT` to get the most up-to-date weights.\n",
      "  warnings.warn(msg)\n"
     ]
    },
    {
     "name": "stdout",
     "output_type": "stream",
     "text": [
      "beginning training 17:49:30\n",
      "epoch\t\tt_cost\t\tv_cost\t\tt_acc\t\tv_acc\t\ttime\n"
     ]
    },
    {
     "ename": "AttributeError",
     "evalue": "'Res18unintegrated' object has no attribute 'resnet'",
     "output_type": "error",
     "traceback": [
      "\u001b[1;31m---------------------------------------------------------------------------\u001b[0m",
      "\u001b[1;31mAttributeError\u001b[0m                            Traceback (most recent call last)",
      "\u001b[1;32md:\\study\\archive_code\\repo\\eog_challenge\\main.ipynb Cell 5\u001b[0m in \u001b[0;36m7\n\u001b[0;32m      <a href='vscode-notebook-cell:/d%3A/study/archive_code/repo/eog_challenge/main.ipynb#W4sZmlsZQ%3D%3D?line=4'>5</a>\u001b[0m \u001b[39mfrom\u001b[39;00m \u001b[39mutil\u001b[39;00m\u001b[39m.\u001b[39;00m\u001b[39mNetworks\u001b[39;00m \u001b[39mimport\u001b[39;00m Orinet\n\u001b[0;32m      <a href='vscode-notebook-cell:/d%3A/study/archive_code/repo/eog_challenge/main.ipynb#W4sZmlsZQ%3D%3D?line=5'>6</a>\u001b[0m model \u001b[39m=\u001b[39m Orinet(hparam[\u001b[39m'\u001b[39m\u001b[39marchitecture_name\u001b[39m\u001b[39m'\u001b[39m], hparam[\u001b[39m'\u001b[39m\u001b[39mweight_decay\u001b[39m\u001b[39m'\u001b[39m], hparam[\u001b[39m'\u001b[39m\u001b[39mdropout_rate\u001b[39m\u001b[39m'\u001b[39m])\u001b[39m.\u001b[39mto(device)\n\u001b[1;32m----> <a href='vscode-notebook-cell:/d%3A/study/archive_code/repo/eog_challenge/main.ipynb#W4sZmlsZQ%3D%3D?line=6'>7</a>\u001b[0m model\u001b[39m.\u001b[39;49mtrain_model(trainloader, testloader, hparam[\u001b[39m'\u001b[39;49m\u001b[39mnr_epochs\u001b[39;49m\u001b[39m'\u001b[39;49m], runpath, device)\n",
      "File \u001b[1;32md:\\study\\archive_code\\repo\\eog_challenge\\util\\Networks.py:77\u001b[0m, in \u001b[0;36mOrinet.train_model\u001b[1;34m(self, trainloader, testloader, nr_epochs, runpath, device)\u001b[0m\n\u001b[0;32m     75\u001b[0m \u001b[39mprint\u001b[39m(header)\n\u001b[0;32m     76\u001b[0m \u001b[39mfor\u001b[39;00m i \u001b[39min\u001b[39;00m \u001b[39mrange\u001b[39m(\u001b[39m1\u001b[39m, nr_epochs\u001b[39m+\u001b[39m\u001b[39m1\u001b[39m):\n\u001b[1;32m---> 77\u001b[0m     \u001b[39mself\u001b[39;49m\u001b[39m.\u001b[39;49mtrain_epoch(trainloader, device)\n\u001b[0;32m     78\u001b[0m     \u001b[39mself\u001b[39m\u001b[39m.\u001b[39mtest_epoch(testloader, device)\n\u001b[0;32m     79\u001b[0m     \u001b[39mself\u001b[39m\u001b[39m.\u001b[39mlog_epoch(header, runpath, nr_epochs)\n",
      "File \u001b[1;32md:\\study\\archive_code\\repo\\eog_challenge\\util\\Networks.py:33\u001b[0m, in \u001b[0;36mOrinet.train_epoch\u001b[1;34m(self, trainloader, device)\u001b[0m\n\u001b[0;32m     31\u001b[0m x, y \u001b[39m=\u001b[39m batch_x\u001b[39m.\u001b[39mto(device), batch_y\u001b[39m.\u001b[39mto(device)\n\u001b[0;32m     32\u001b[0m \u001b[39m# prediction error\u001b[39;00m\n\u001b[1;32m---> 33\u001b[0m preds \u001b[39m=\u001b[39m \u001b[39mself\u001b[39;49m(x)\n\u001b[0;32m     34\u001b[0m loss \u001b[39m=\u001b[39m \u001b[39mself\u001b[39m\u001b[39m.\u001b[39mloss_fn(preds, y)\n\u001b[0;32m     35\u001b[0m \u001b[39m# Backpropagation\u001b[39;00m\n",
      "File \u001b[1;32md:\\program\\code_language\\python_3.10\\lib\\site-packages\\torch\\nn\\modules\\module.py:1501\u001b[0m, in \u001b[0;36mModule._call_impl\u001b[1;34m(self, *args, **kwargs)\u001b[0m\n\u001b[0;32m   1496\u001b[0m \u001b[39m# If we don't have any hooks, we want to skip the rest of the logic in\u001b[39;00m\n\u001b[0;32m   1497\u001b[0m \u001b[39m# this function, and just call forward.\u001b[39;00m\n\u001b[0;32m   1498\u001b[0m \u001b[39mif\u001b[39;00m \u001b[39mnot\u001b[39;00m (\u001b[39mself\u001b[39m\u001b[39m.\u001b[39m_backward_hooks \u001b[39mor\u001b[39;00m \u001b[39mself\u001b[39m\u001b[39m.\u001b[39m_backward_pre_hooks \u001b[39mor\u001b[39;00m \u001b[39mself\u001b[39m\u001b[39m.\u001b[39m_forward_hooks \u001b[39mor\u001b[39;00m \u001b[39mself\u001b[39m\u001b[39m.\u001b[39m_forward_pre_hooks\n\u001b[0;32m   1499\u001b[0m         \u001b[39mor\u001b[39;00m _global_backward_pre_hooks \u001b[39mor\u001b[39;00m _global_backward_hooks\n\u001b[0;32m   1500\u001b[0m         \u001b[39mor\u001b[39;00m _global_forward_hooks \u001b[39mor\u001b[39;00m _global_forward_pre_hooks):\n\u001b[1;32m-> 1501\u001b[0m     \u001b[39mreturn\u001b[39;00m forward_call(\u001b[39m*\u001b[39margs, \u001b[39m*\u001b[39m\u001b[39m*\u001b[39mkwargs)\n\u001b[0;32m   1502\u001b[0m \u001b[39m# Do not call functions when jit is used\u001b[39;00m\n\u001b[0;32m   1503\u001b[0m full_backward_hooks, non_full_backward_hooks \u001b[39m=\u001b[39m [], []\n",
      "File \u001b[1;32md:\\study\\archive_code\\repo\\eog_challenge\\util\\Networks.py:24\u001b[0m, in \u001b[0;36mOrinet.forward\u001b[1;34m(self, x)\u001b[0m\n\u001b[0;32m     23\u001b[0m \u001b[39mdef\u001b[39;00m \u001b[39mforward\u001b[39m(\u001b[39mself\u001b[39m, x):\n\u001b[1;32m---> 24\u001b[0m     x \u001b[39m=\u001b[39m \u001b[39mself\u001b[39;49m\u001b[39m.\u001b[39;49marchitecture(x)\n\u001b[0;32m     25\u001b[0m     \u001b[39mreturn\u001b[39;00m x\n",
      "File \u001b[1;32md:\\program\\code_language\\python_3.10\\lib\\site-packages\\torch\\nn\\modules\\module.py:1501\u001b[0m, in \u001b[0;36mModule._call_impl\u001b[1;34m(self, *args, **kwargs)\u001b[0m\n\u001b[0;32m   1496\u001b[0m \u001b[39m# If we don't have any hooks, we want to skip the rest of the logic in\u001b[39;00m\n\u001b[0;32m   1497\u001b[0m \u001b[39m# this function, and just call forward.\u001b[39;00m\n\u001b[0;32m   1498\u001b[0m \u001b[39mif\u001b[39;00m \u001b[39mnot\u001b[39;00m (\u001b[39mself\u001b[39m\u001b[39m.\u001b[39m_backward_hooks \u001b[39mor\u001b[39;00m \u001b[39mself\u001b[39m\u001b[39m.\u001b[39m_backward_pre_hooks \u001b[39mor\u001b[39;00m \u001b[39mself\u001b[39m\u001b[39m.\u001b[39m_forward_hooks \u001b[39mor\u001b[39;00m \u001b[39mself\u001b[39m\u001b[39m.\u001b[39m_forward_pre_hooks\n\u001b[0;32m   1499\u001b[0m         \u001b[39mor\u001b[39;00m _global_backward_pre_hooks \u001b[39mor\u001b[39;00m _global_backward_hooks\n\u001b[0;32m   1500\u001b[0m         \u001b[39mor\u001b[39;00m _global_forward_hooks \u001b[39mor\u001b[39;00m _global_forward_pre_hooks):\n\u001b[1;32m-> 1501\u001b[0m     \u001b[39mreturn\u001b[39;00m forward_call(\u001b[39m*\u001b[39margs, \u001b[39m*\u001b[39m\u001b[39m*\u001b[39mkwargs)\n\u001b[0;32m   1502\u001b[0m \u001b[39m# Do not call functions when jit is used\u001b[39;00m\n\u001b[0;32m   1503\u001b[0m full_backward_hooks, non_full_backward_hooks \u001b[39m=\u001b[39m [], []\n",
      "File \u001b[1;32md:\\study\\archive_code\\repo\\eog_challenge\\util\\Architectures.py:65\u001b[0m, in \u001b[0;36mRes18unintegrated.forward\u001b[1;34m(self, x, context)\u001b[0m\n\u001b[0;32m     64\u001b[0m \u001b[39mdef\u001b[39;00m \u001b[39mforward\u001b[39m(\u001b[39mself\u001b[39m, x, context\u001b[39m=\u001b[39mtorch\u001b[39m.\u001b[39mtensor([])):\n\u001b[1;32m---> 65\u001b[0m     x \u001b[39m=\u001b[39m \u001b[39mself\u001b[39;49m\u001b[39m.\u001b[39;49mresnet(x)\n\u001b[0;32m     66\u001b[0m     x \u001b[39m=\u001b[39m x\u001b[39m.\u001b[39mview(x\u001b[39m.\u001b[39msize(\u001b[39m0\u001b[39m), \u001b[39m-\u001b[39m\u001b[39m1\u001b[39m)\n\u001b[0;32m     68\u001b[0m     \u001b[39m# Concatenate the features from the CNN with the context\u001b[39;00m\n\u001b[0;32m     69\u001b[0m     \u001b[39m#x = torch.cat((x, context), dim=1)\u001b[39;00m\n\u001b[0;32m     70\u001b[0m     \n\u001b[0;32m     71\u001b[0m     \u001b[39m# Pass through fully-connected layers\u001b[39;00m\n",
      "File \u001b[1;32md:\\program\\code_language\\python_3.10\\lib\\site-packages\\torch\\nn\\modules\\module.py:1614\u001b[0m, in \u001b[0;36mModule.__getattr__\u001b[1;34m(self, name)\u001b[0m\n\u001b[0;32m   1612\u001b[0m     \u001b[39mif\u001b[39;00m name \u001b[39min\u001b[39;00m modules:\n\u001b[0;32m   1613\u001b[0m         \u001b[39mreturn\u001b[39;00m modules[name]\n\u001b[1;32m-> 1614\u001b[0m \u001b[39mraise\u001b[39;00m \u001b[39mAttributeError\u001b[39;00m(\u001b[39m\"\u001b[39m\u001b[39m'\u001b[39m\u001b[39m{}\u001b[39;00m\u001b[39m'\u001b[39m\u001b[39m object has no attribute \u001b[39m\u001b[39m'\u001b[39m\u001b[39m{}\u001b[39;00m\u001b[39m'\u001b[39m\u001b[39m\"\u001b[39m\u001b[39m.\u001b[39mformat(\n\u001b[0;32m   1615\u001b[0m     \u001b[39mtype\u001b[39m(\u001b[39mself\u001b[39m)\u001b[39m.\u001b[39m\u001b[39m__name__\u001b[39m, name))\n",
      "\u001b[1;31mAttributeError\u001b[0m: 'Res18unintegrated' object has no attribute 'resnet'"
     ]
    }
   ],
   "source": [
    "# begin\n",
    "from util.Tools import run_init\n",
    "runpath = run_init(hparams=hparam, device=device)\n",
    "\n",
    "from util.Networks import Orinet\n",
    "model = Orinet(hparam['architecture_name'], hparam['weight_decay'], hparam['dropout_rate']).to(device)\n",
    "model.train_model(trainloader, testloader, hparam['nr_epochs'], runpath, device)"
   ]
  }
 ],
 "metadata": {
  "kernelspec": {
   "display_name": "Python 3",
   "language": "python",
   "name": "python3"
  },
  "language_info": {
   "codemirror_mode": {
    "name": "ipython",
    "version": 3
   },
   "file_extension": ".py",
   "mimetype": "text/x-python",
   "name": "python",
   "nbconvert_exporter": "python",
   "pygments_lexer": "ipython3",
   "version": "3.10.0"
  },
  "orig_nbformat": 4
 },
 "nbformat": 4,
 "nbformat_minor": 2
}
